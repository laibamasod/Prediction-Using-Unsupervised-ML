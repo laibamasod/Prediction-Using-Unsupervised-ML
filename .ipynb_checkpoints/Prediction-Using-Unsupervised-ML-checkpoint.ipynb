{
 "cells": [
  {
   "cell_type": "markdown",
   "id": "6f40f87c",
   "metadata": {},
   "source": [
    "##### TASK 2 - LEVEL BEGINNER\n",
    "##### Predicting the Optimum number of Clusters and Visualizing Results\n",
    "##### GRIPSEPTEMBER23 \n",
    "##### Laiba Masood \n"
   ]
  },
  {
   "cell_type": "code",
   "execution_count": null,
   "id": "7ee92aba",
   "metadata": {},
   "outputs": [],
   "source": []
  }
 ],
 "metadata": {
  "kernelspec": {
   "display_name": "Python 3 (ipykernel)",
   "language": "python",
   "name": "python3"
  },
  "language_info": {
   "codemirror_mode": {
    "name": "ipython",
    "version": 3
   },
   "file_extension": ".py",
   "mimetype": "text/x-python",
   "name": "python",
   "nbconvert_exporter": "python",
   "pygments_lexer": "ipython3",
   "version": "3.10.9"
  }
 },
 "nbformat": 4,
 "nbformat_minor": 5
}
